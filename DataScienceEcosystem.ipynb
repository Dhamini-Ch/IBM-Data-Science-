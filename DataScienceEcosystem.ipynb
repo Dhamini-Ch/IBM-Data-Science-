{
 "cells": [
  {
   "cell_type": "markdown",
   "id": "3252982a",
   "metadata": {},
   "source": [
    "# Data Science Tools and Ecosystem"
   ]
  },
  {
   "cell_type": "markdown",
   "id": "dc0deed6",
   "metadata": {},
   "source": [
    "## In this notebook, Data Science Tools and Ecosystem are smmarized"
   ]
  },
  {
   "cell_type": "markdown",
   "id": "1d7475c1",
   "metadata": {},
   "source": [
    "### Objective:\n",
    "#### List of Popular languages used by Data Scientists\n",
    "#### Commonly used libraries used by Data Scientists\n",
    "#### Data Science Tools\n",
    "#### Arthemetic Operations in Python\n",
    "#### Converting minutes to Hours"
   ]
  },
  {
   "cell_type": "markdown",
   "id": "1cca9d9b",
   "metadata": {},
   "source": [
    "### Some of the popular languages that Data Scientistis use are:\n",
    "### 1. Python\n",
    "### 2. R \n",
    "### 3. SQL"
   ]
  },
  {
   "cell_type": "markdown",
   "id": "f26675cf",
   "metadata": {},
   "source": [
    "### Some of the commonly used libraries used by Data Scientists include:\n",
    "\n",
    "### 1. Python\n",
    "#### Scientific Computing libraries: Pandas, Numpy, Scipy and Matplotlib\n",
    "#### For AI: PyTorch, Tensorflow, Keras and Scikit-Learn\n",
    "#### NLP: NLTK\n",
    "### 2. R language:\n",
    "#### ggplot, cart"
   ]
  },
  {
   "cell_type": "markdown",
   "id": "c27d1523",
   "metadata": {},
   "source": [
    "## Data Science Tools\n",
    "### Data Management\n",
    "### Data Integration and Transformation\n",
    "### Data Visualozation\n",
    "### Model Building \n",
    "### Modle Deployment \n",
    "### Model monitoring and Assessment\n",
    "### Code asset management\n",
    "### Development Environment"
   ]
  },
  {
   "cell_type": "markdown",
   "id": "d78da140",
   "metadata": {},
   "source": [
    "### Below are a few examples of evaluating arithmetic expression in Python\n",
    "#### Addition: +\n",
    "#### Subtraction: -\n",
    "#### Multiplication: *\n",
    "#### Division: /\n",
    "#### Modulo: %"
   ]
  },
  {
   "cell_type": "markdown",
   "id": "3d82e62b",
   "metadata": {},
   "source": [
    "### This is a simple arthemetic expression to multiply then add integers"
   ]
  },
  {
   "cell_type": "code",
   "execution_count": 1,
   "id": "dd227942",
   "metadata": {},
   "outputs": [
    {
     "data": {
      "text/plain": [
       "17"
      ]
     },
     "execution_count": 1,
     "metadata": {},
     "output_type": "execute_result"
    }
   ],
   "source": [
    "(3*4)+5"
   ]
  },
  {
   "cell_type": "markdown",
   "id": "8a068d52",
   "metadata": {},
   "source": [
    "### This will convert 200 minutes to hours by divinding by 60"
   ]
  },
  {
   "cell_type": "code",
   "execution_count": 2,
   "id": "dd05154f",
   "metadata": {},
   "outputs": [
    {
     "name": "stdout",
     "output_type": "stream",
     "text": [
      "3\n"
     ]
    }
   ],
   "source": [
    "min = 200\n",
    "hours = min // 60\n",
    "print(hours)"
   ]
  },
  {
   "cell_type": "markdown",
   "id": "a939d213",
   "metadata": {},
   "source": [
    "## Author:  Cheekireddy Dhamini "
   ]
  },
  {
   "cell_type": "code",
   "execution_count": null,
   "id": "66820b4a",
   "metadata": {},
   "outputs": [],
   "source": []
  }
 ],
 "metadata": {
  "kernelspec": {
   "display_name": "Python 3 (ipykernel)",
   "language": "python",
   "name": "python3"
  },
  "language_info": {
   "codemirror_mode": {
    "name": "ipython",
    "version": 3
   },
   "file_extension": ".py",
   "mimetype": "text/x-python",
   "name": "python",
   "nbconvert_exporter": "python",
   "pygments_lexer": "ipython3",
   "version": "3.9.13"
  }
 },
 "nbformat": 4,
 "nbformat_minor": 5
}
